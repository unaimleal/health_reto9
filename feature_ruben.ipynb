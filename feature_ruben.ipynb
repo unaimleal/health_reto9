{
 "cells": [
  {
   "cell_type": "code",
   "execution_count": 1,
   "metadata": {},
   "outputs": [],
   "source": [
    "import skimage.io\n",
    "import pandas as pd\n",
    "import os\n",
    "from sklearn.model_selection import train_test_split\n",
    "from sklearn.svm import SVC\n",
    "from sklearn.linear_model import LogisticRegression\n",
    "from sklearn.ensemble import RandomForestClassifier\n",
    "from sklearn.metrics import accuracy_score, classification_report\n",
    "import cv2\n",
    "from skimage import exposure, color\n",
    "import numpy as np\n",
    "from sklearn.ensemble import GradientBoostingClassifier"
   ]
  },
  {
   "cell_type": "code",
   "execution_count": 2,
   "metadata": {},
   "outputs": [],
   "source": [
    "def calcular_promedio_color(imagen):\n",
    "\n",
    "    promedio_color = imagen.mean(axis=(0,1))\n",
    "    std = imagen.std(axis=(0,1))\n",
    "\n",
    "    data = {\n",
    "        'intensidad_Rojo': promedio_color[0], 'contraste_Rojo': std[0],\n",
    "        'intensidad_Verde': promedio_color[1], 'contraste_Verde': std[1],\n",
    "        'intensidad_Azul': promedio_color[2], 'contraste_Azul': std[2]\n",
    "    }\n",
    "\n",
    "    df = pd.DataFrame(data, index=[0])\n",
    "\n",
    "    return df"
   ]
  },
  {
   "cell_type": "code",
   "execution_count": 3,
   "metadata": {},
   "outputs": [],
   "source": [
    "def media_imagen_threshold(imagen):\n",
    "    img_gray = color.rgb2gray(imagen)\n",
    "    img_ampliacion_rango = exposure.rescale_intensity(img_gray, in_range='image', out_range=(0, 1))\n",
    "    smoothed_image = cv2.GaussianBlur(img_ampliacion_rango, (5, 5), 0)\n",
    "    imagen_umbralizada_globulos_blancos = (smoothed_image > 0.25).astype(np.uint8) * 255\n",
    "    imagen_umbralizada_globulos_negros = 255 - imagen_umbralizada_globulos_blancos\n",
    "    media_negro = np.mean(imagen_umbralizada_globulos_negros)\n",
    "    std_negro = np.std(imagen_umbralizada_globulos_negros)\n",
    "    return media_negro, std_negro"
   ]
  },
  {
   "cell_type": "code",
   "execution_count": 4,
   "metadata": {},
   "outputs": [],
   "source": [
    "carpeta = 'data'\n",
    "lista_dfs_res = []\n",
    "\n",
    "for carpetita in os.listdir(carpeta):\n",
    "    ruta_carpetita = os.path.join(carpeta,carpetita)\n",
    "    resultados = []\n",
    "\n",
    "    for nombre_archivo in os.listdir(ruta_carpetita):\n",
    "        ruta_imagen = os.path.join(ruta_carpetita, nombre_archivo)\n",
    "\n",
    "        if os.path.isfile(ruta_imagen) and nombre_archivo.lower().endswith(('.png', '.jpg', '.jpeg', '.gif', '.bmp')):\n",
    "            imagen = skimage.io.imread(ruta_imagen)\n",
    "            \n",
    "            df_resultado = calcular_promedio_color(imagen)\n",
    "            media_binario, std_binario = media_imagen_threshold(imagen) \n",
    "            df_resultado['media_binario'] = media_binario\n",
    "            df_resultado['std_binario'] = std_binario\n",
    "            resultados.append(df_resultado)\n",
    "\n",
    "    df_res = pd.concat(resultados, ignore_index=True)\n",
    "    if carpetita == 'healthy':\n",
    "        df_res['label'] = 0\n",
    "    else:\n",
    "        df_res['label'] = 1\n",
    "\n",
    "\n",
    "    lista_dfs_res.append(df_res)\n",
    "\n",
    "df = pd.concat([lista_dfs_res[0], lista_dfs_res[1]], ignore_index=True)\n",
    "df = df.sample(frac=1).reset_index(drop=True)"
   ]
  },
  {
   "cell_type": "code",
   "execution_count": 12,
   "metadata": {},
   "outputs": [
    {
     "name": "stdout",
     "output_type": "stream",
     "text": [
      "   intensidad_Rojo  contraste_Rojo  intensidad_Verde  contraste_Verde  \\\n",
      "0       150.256180        9.135768        132.956495        19.052737   \n",
      "1       146.470863       10.583887        137.198766        11.687097   \n",
      "2       146.733711       10.955865        138.765872        13.009746   \n",
      "3       160.149168       12.170018        146.903018        20.769447   \n",
      "4       144.689658        9.840177        131.922146        15.950798   \n",
      "\n",
      "   intensidad_Azul  contraste_Azul  media_binario  std_binario  label  \n",
      "0       118.456617       15.511611       0.798272    14.245071      0  \n",
      "1       129.107212       10.766829       0.301617     8.764773      0  \n",
      "2       131.253735       12.633971       0.351059     9.454994      0  \n",
      "3       138.231599       11.768046       2.040163    22.717377      1  \n",
      "4       120.354844       12.300901       0.542454    11.748685      0  \n"
     ]
    }
   ],
   "source": [
    "df.to_csv('dataset_features.csv', index=False)\n",
    "print(df.head())"
   ]
  },
  {
   "cell_type": "code",
   "execution_count": 8,
   "metadata": {},
   "outputs": [
    {
     "name": "stdout",
     "output_type": "stream",
     "text": [
      "Precisión del modelo: 1.0000\n"
     ]
    }
   ],
   "source": [
    "X = df.drop('label', axis=1)\n",
    "y = df['label']\n",
    "\n",
    "X_train_total, X_test, y_train_total, y_test = train_test_split(X, y, test_size=0.2, random_state=42)\n",
    "X_train, X_val, y_train, y_val = train_test_split(X_train_total, y_train_total, test_size=0.2, random_state=42)\n",
    "\n",
    "clasificador = RandomForestClassifier()\n",
    "\n",
    "clasificador.fit(X_train, y_train)\n",
    "pred = clasificador.predict(X_val)\n",
    "\n",
    "accuracy = accuracy_score(y_val, pred)\n",
    "print(f\"Precisión del modelo: {accuracy:.4f}\")"
   ]
  },
  {
   "cell_type": "code",
   "execution_count": 6,
   "metadata": {},
   "outputs": [
    {
     "name": "stdout",
     "output_type": "stream",
     "text": [
      "Variables ordenadas por su aportación al modelo:\n",
      "intensidad_Azul     0.580609\n",
      "std_binario         0.502024\n",
      "contraste_Verde     0.358404\n",
      "intensidad_Rojo     0.205283\n",
      "intensidad_Verde    0.205222\n",
      "contraste_Azul      0.152689\n",
      "contraste_Rojo      0.135927\n",
      "media_binario       0.074024\n",
      "dtype: float64\n"
     ]
    }
   ],
   "source": [
    "coefs = pd.Series(clasificador.coef_[0], index=X.columns)\n",
    "\n",
    "coefs_sorted = coefs.abs().sort_values(ascending=False)\n",
    "\n",
    "print(\"Variables ordenadas por su aportación al modelo:\")\n",
    "print(coefs_sorted)"
   ]
  },
  {
   "cell_type": "code",
   "execution_count": 9,
   "metadata": {},
   "outputs": [
    {
     "name": "stdout",
     "output_type": "stream",
     "text": [
      "Precisión del modelo: 1.0000\n"
     ]
    }
   ],
   "source": [
    "X = df.drop('label', axis=1)\n",
    "X = X[coefs_sorted.index[:4]]\n",
    "y = df['label']\n",
    "\n",
    "X_train_total, X_test, y_train_total, y_test = train_test_split(X, y, test_size=0.2, random_state=42)\n",
    "X_train, X_val, y_train, y_val = train_test_split(X_train_total, y_train_total, test_size=0.2, random_state=42)\n",
    "\n",
    "clasificador = RandomForestClassifier()\n",
    "\n",
    "clasificador.fit(X_train, y_train)\n",
    "pred = clasificador.predict(X_val)\n",
    "\n",
    "accuracy = accuracy_score(y_val, pred)\n",
    "print(f\"Precisión del modelo: {accuracy:.4f}\")"
   ]
  }
 ],
 "metadata": {
  "kernelspec": {
   "display_name": "PyG",
   "language": "python",
   "name": "python3"
  },
  "language_info": {
   "codemirror_mode": {
    "name": "ipython",
    "version": 3
   },
   "file_extension": ".py",
   "mimetype": "text/x-python",
   "name": "python",
   "nbconvert_exporter": "python",
   "pygments_lexer": "ipython3",
   "version": "3.11.5"
  }
 },
 "nbformat": 4,
 "nbformat_minor": 2
}
