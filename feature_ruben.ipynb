{
 "cells": [
  {
   "cell_type": "code",
   "execution_count": 117,
   "metadata": {},
   "outputs": [],
   "source": [
    "import skimage.io\n",
    "import pandas as pd\n",
    "import os\n",
    "from sklearn.model_selection import train_test_split\n",
    "from sklearn.svm import SVC\n",
    "from sklearn.linear_model import LogisticRegression\n",
    "from sklearn.ensemble import RandomForestClassifier\n",
    "from sklearn.metrics import accuracy_score, classification_report\n",
    "import cv2\n",
    "from skimage import exposure, color\n",
    "import numpy as np\n",
    "from sklearn.ensemble import GradientBoostingClassifier"
   ]
  },
  {
   "cell_type": "code",
   "execution_count": 118,
   "metadata": {},
   "outputs": [],
   "source": [
    "def calcular_promedio_color(imagen):\n",
    "\n",
    "    promedio_color = imagen.mean(axis=(0,1))\n",
    "    std = imagen.std(axis=(0,1))\n",
    "\n",
    "    data = {\n",
    "        'intensidad_Rojo': promedio_color[0], 'contraste_Rojo': std[0],\n",
    "        'intensidad_Verde': promedio_color[1], 'contraste_Verde': std[1],\n",
    "        'intensidad_Azul': promedio_color[2], 'contraste_Azul': std[2]\n",
    "    }\n",
    "\n",
    "    df = pd.DataFrame(data, index=[0])\n",
    "\n",
    "    return df"
   ]
  },
  {
   "cell_type": "code",
   "execution_count": 119,
   "metadata": {},
   "outputs": [],
   "source": [
    "def media_imagen_threshold(imagen):\n",
    "    img_gray = color.rgb2gray(imagen)\n",
    "    img_ampliacion_rango = exposure.rescale_intensity(img_gray, in_range='image', out_range=(0, 1))\n",
    "    smoothed_image = cv2.GaussianBlur(img_ampliacion_rango, (5, 5), 0)\n",
    "    imagen_umbralizada_globulos_blancos = (smoothed_image > 0.25).astype(np.uint8) * 255\n",
    "    imagen_umbralizada_globulos_negros = 255 - imagen_umbralizada_globulos_blancos\n",
    "    media_negro = np.mean(imagen_umbralizada_globulos_negros)\n",
    "    std_negro = np.std(imagen_umbralizada_globulos_negros)\n",
    "    return media_negro, std_negro"
   ]
  },
  {
   "cell_type": "code",
   "execution_count": 120,
   "metadata": {},
   "outputs": [
    {
     "name": "stdout",
     "output_type": "stream",
     "text": [
      "Media contraste rojo 9.722840283756138\n",
      "Media contraste verde 16.456536599322998\n",
      "Media contraste binario 13.411783893828273\n",
      "Media media binaria 0.7922000049354379\n",
      "Media contraste rojo 17.7486866991024\n",
      "Media contraste verde 27.880811487551586\n",
      "Media contraste binario 43.810653838456744\n",
      "Media media binaria 9.081737970078281\n"
     ]
    }
   ],
   "source": [
    "carpeta = 'data'\n",
    "lista_dfs_res = []\n",
    "\n",
    "for carpetita in os.listdir(carpeta):\n",
    "    ruta_carpetita = os.path.join(carpeta,carpetita)\n",
    "    resultados = []\n",
    "\n",
    "    for nombre_archivo in os.listdir(ruta_carpetita):\n",
    "        ruta_imagen = os.path.join(ruta_carpetita, nombre_archivo)\n",
    "\n",
    "        if os.path.isfile(ruta_imagen) and nombre_archivo.lower().endswith(('.png', '.jpg', '.jpeg', '.gif', '.bmp')):\n",
    "            imagen = skimage.io.imread(ruta_imagen)\n",
    "            \n",
    "            df_resultado = calcular_promedio_color(imagen)\n",
    "            media_binario, std_binario = media_imagen_threshold(imagen) \n",
    "            df_resultado['media_binario'] = media_binario\n",
    "            df_resultado['std_binario'] = std_binario\n",
    "            resultados.append(df_resultado)\n",
    "\n",
    "    df_res = pd.concat(resultados, ignore_index=True)\n",
    "    if carpetita == 'healthy':\n",
    "        df_res['label'] = 0\n",
    "    else:\n",
    "        df_res['label'] = 1\n",
    "\n",
    "    print(f\"Media contraste rojo {df_res['contraste_Rojo'].mean()}\")\n",
    "    print(f\"Media contraste verde {df_res['contraste_Verde'].mean()}\")\n",
    "    print(f\"Media contraste binario {df_res['std_binario'].mean()}\")\n",
    "    print(f\"Media media binaria {df_res['media_binario'].mean()}\")\n",
    "\n",
    "    lista_dfs_res.append(df_res)\n",
    "\n",
    "df = pd.concat([lista_dfs_res[0], lista_dfs_res[1]], ignore_index=True)\n",
    "df = df.sample(frac=1).reset_index(drop=True)"
   ]
  },
  {
   "cell_type": "code",
   "execution_count": 121,
   "metadata": {},
   "outputs": [
    {
     "data": {
      "text/plain": [
       "(108, 9)"
      ]
     },
     "execution_count": 121,
     "metadata": {},
     "output_type": "execute_result"
    }
   ],
   "source": [
    "df.shape"
   ]
  },
  {
   "cell_type": "code",
   "execution_count": 125,
   "metadata": {},
   "outputs": [
    {
     "name": "stdout",
     "output_type": "stream",
     "text": [
      "Precisión del modelo: 0.9444\n"
     ]
    },
    {
     "name": "stderr",
     "output_type": "stream",
     "text": [
      "c:\\Users\\Usuario\\.conda\\envs\\RETO9\\Lib\\site-packages\\sklearn\\linear_model\\_logistic.py:460: ConvergenceWarning: lbfgs failed to converge (status=1):\n",
      "STOP: TOTAL NO. of ITERATIONS REACHED LIMIT.\n",
      "\n",
      "Increase the number of iterations (max_iter) or scale the data as shown in:\n",
      "    https://scikit-learn.org/stable/modules/preprocessing.html\n",
      "Please also refer to the documentation for alternative solver options:\n",
      "    https://scikit-learn.org/stable/modules/linear_model.html#logistic-regression\n",
      "  n_iter_i = _check_optimize_result(\n"
     ]
    }
   ],
   "source": [
    "X = df.drop('label', axis=1)\n",
    "y = df['label']\n",
    "\n",
    "X_train_total, X_test, y_train_total, y_test = train_test_split(X, y, test_size=0.2, random_state=42)\n",
    "X_train, X_val, y_train, y_val = train_test_split(X_train_total, y_train_total, test_size=0.2, random_state=42)\n",
    "\n",
    "clasificador = LogisticRegression()\n",
    "\n",
    "clasificador.fit(X_train, y_train)\n",
    "pred = clasificador.predict(X_val)\n",
    "\n",
    "accuracy = accuracy_score(y_val, pred)\n",
    "print(f\"Precisión del modelo: {accuracy:.4f}\")"
   ]
  },
  {
   "cell_type": "code",
   "execution_count": 126,
   "metadata": {},
   "outputs": [
    {
     "name": "stdout",
     "output_type": "stream",
     "text": [
      "Coeficientes ordenados por importancia:\n",
      "std_binario         0.601124\n",
      "intensidad_Azul     0.530245\n",
      "intensidad_Rojo     0.375462\n",
      "contraste_Verde     0.194176\n",
      "media_binario       0.076189\n",
      "intensidad_Verde    0.031459\n",
      "contraste_Rojo      0.022528\n",
      "contraste_Azul      0.010735\n",
      "dtype: float64\n"
     ]
    }
   ],
   "source": [
    "coefs = pd.Series(clasificador.coef_[0], index=X.columns)\n",
    "\n",
    "coefs_sorted = coefs.abs().sort_values(ascending=False)\n",
    "\n",
    "print(\"Coeficientes ordenados por importancia:\")\n",
    "print(coefs_sorted)"
   ]
  },
  {
   "cell_type": "code",
   "execution_count": 130,
   "metadata": {},
   "outputs": [
    {
     "name": "stdout",
     "output_type": "stream",
     "text": [
      "Precisión del modelo: 0.9444\n"
     ]
    }
   ],
   "source": [
    "X = df.drop('label', axis=1)\n",
    "X = X[coefs_sorted.index[:4]]\n",
    "y = df['label']\n",
    "\n",
    "X_train_total, X_test, y_train_total, y_test = train_test_split(X, y, test_size=0.2, random_state=42)\n",
    "X_train, X_val, y_train, y_val = train_test_split(X_train_total, y_train_total, test_size=0.2, random_state=42)\n",
    "\n",
    "clasificador = LogisticRegression()\n",
    "\n",
    "clasificador.fit(X_train, y_train)\n",
    "pred = clasificador.predict(X_val)\n",
    "\n",
    "accuracy = accuracy_score(y_val, pred)\n",
    "print(f\"Precisión del modelo: {accuracy:.4f}\")"
   ]
  }
 ],
 "metadata": {
  "kernelspec": {
   "display_name": "PyG",
   "language": "python",
   "name": "python3"
  },
  "language_info": {
   "codemirror_mode": {
    "name": "ipython",
    "version": 3
   },
   "file_extension": ".py",
   "mimetype": "text/x-python",
   "name": "python",
   "nbconvert_exporter": "python",
   "pygments_lexer": "ipython3",
   "version": "3.11.5"
  }
 },
 "nbformat": 4,
 "nbformat_minor": 2
}
