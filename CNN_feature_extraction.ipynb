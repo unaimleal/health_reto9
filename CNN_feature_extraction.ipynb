{
 "cells": [
  {
   "cell_type": "code",
   "execution_count": 33,
   "metadata": {},
   "outputs": [],
   "source": [
    "from keras.applications.vgg16 import VGG16\n",
    "from keras.utils import img_to_array\n",
    "from sklearn.preprocessing import LabelEncoder\n",
    "from keras.models import Model\n",
    "\n",
    "from sklearn.metrics import accuracy_score, confusion_matrix, classification_report\n",
    "from imutils import paths\n",
    "import cv2\n",
    "import random\n",
    "import os\n",
    "import numpy as np\n",
    "from sklearn.model_selection import train_test_split, GridSearchCV\n",
    "import matplotlib.pyplot as plt\n",
    "from sklearn.ensemble import RandomForestClassifier\n",
    "from sklearn.svm import SVC\n",
    "import seaborn as sns\n",
    "import pandas as pd"
   ]
  },
  {
   "cell_type": "code",
   "execution_count": 34,
   "metadata": {},
   "outputs": [],
   "source": [
    "img_width, img_height = 224, 224\n",
    "path = './data'\n",
    "norm_size = 224\n",
    "class_num = 2"
   ]
  },
  {
   "cell_type": "code",
   "execution_count": 35,
   "metadata": {},
   "outputs": [],
   "source": [
    "def load_data(path, norm_size, class_num):\n",
    "    data = []\n",
    "    label = []\n",
    "    for subcarpeta in os.listdir(path):\n",
    "        ruta_subcarpeta = os.path.join(path, subcarpeta)\n",
    "        image_paths = sorted(list(paths.list_images(ruta_subcarpeta)))\n",
    "        random.seed(0)\n",
    "        for each_path in image_paths:\n",
    "            image = cv2.imread(each_path)\n",
    "            image = cv2.resize(image, (norm_size, norm_size))\n",
    "            image = img_to_array(image)\n",
    "            data.append(image)\n",
    "            maker = subcarpeta\n",
    "            label.append(maker)\n",
    "    data = np.array(data, dtype=\"float\") / 255.0\n",
    "    label = np.array(label)\n",
    "    return data, label"
   ]
  },
  {
   "cell_type": "code",
   "execution_count": 36,
   "metadata": {},
   "outputs": [],
   "source": [
    "data, label = load_data(path, norm_size, class_num)"
   ]
  },
  {
   "cell_type": "code",
   "execution_count": 37,
   "metadata": {},
   "outputs": [
    {
     "name": "stdout",
     "output_type": "stream",
     "text": [
      "Model: \"vgg16\"\n",
      "_________________________________________________________________\n",
      " Layer (type)                Output Shape              Param #   \n",
      "=================================================================\n",
      " input_2 (InputLayer)        [(None, None, None, 3)]   0         \n",
      "                                                                 \n",
      " block1_conv1 (Conv2D)       (None, None, None, 64)    1792      \n",
      "                                                                 \n",
      " block1_conv2 (Conv2D)       (None, None, None, 64)    36928     \n",
      "                                                                 \n",
      " block1_pool (MaxPooling2D)  (None, None, None, 64)    0         \n",
      "                                                                 \n",
      " block2_conv1 (Conv2D)       (None, None, None, 128)   73856     \n",
      "                                                                 \n",
      " block2_conv2 (Conv2D)       (None, None, None, 128)   147584    \n",
      "                                                                 \n",
      " block2_pool (MaxPooling2D)  (None, None, None, 128)   0         \n",
      "                                                                 \n",
      " block3_conv1 (Conv2D)       (None, None, None, 256)   295168    \n",
      "                                                                 \n",
      " block3_conv2 (Conv2D)       (None, None, None, 256)   590080    \n",
      "                                                                 \n",
      " block3_conv3 (Conv2D)       (None, None, None, 256)   590080    \n",
      "                                                                 \n",
      " block3_pool (MaxPooling2D)  (None, None, None, 256)   0         \n",
      "                                                                 \n",
      " block4_conv1 (Conv2D)       (None, None, None, 512)   1180160   \n",
      "                                                                 \n",
      " block4_conv2 (Conv2D)       (None, None, None, 512)   2359808   \n",
      "                                                                 \n",
      " block4_conv3 (Conv2D)       (None, None, None, 512)   2359808   \n",
      "                                                                 \n",
      " block4_pool (MaxPooling2D)  (None, None, None, 512)   0         \n",
      "                                                                 \n",
      " block5_conv1 (Conv2D)       (None, None, None, 512)   2359808   \n",
      "                                                                 \n",
      " block5_conv2 (Conv2D)       (None, None, None, 512)   2359808   \n",
      "                                                                 \n",
      " block5_conv3 (Conv2D)       (None, None, None, 512)   2359808   \n",
      "                                                                 \n",
      " block5_pool (MaxPooling2D)  (None, None, None, 512)   0         \n",
      "                                                                 \n",
      "=================================================================\n",
      "Total params: 14714688 (56.13 MB)\n",
      "Trainable params: 14714688 (56.13 MB)\n",
      "Non-trainable params: 0 (0.00 Byte)\n",
      "_________________________________________________________________\n"
     ]
    }
   ],
   "source": [
    "model = VGG16(weights='imagenet', include_top=False)\n",
    "model.summary()"
   ]
  },
  {
   "cell_type": "code",
   "execution_count": 38,
   "metadata": {},
   "outputs": [
    {
     "name": "stdout",
     "output_type": "stream",
     "text": [
      "4/4 [==============================] - 13s 3s/step\n"
     ]
    }
   ],
   "source": [
    "layer_outputs = [layer.output for layer in model.layers[:19]] \n",
    "activation_model = Model(inputs=model.input, outputs=layer_outputs)\n",
    "activations = activation_model.predict(data)"
   ]
  },
  {
   "cell_type": "code",
   "execution_count": 39,
   "metadata": {},
   "outputs": [
    {
     "name": "stdout",
     "output_type": "stream",
     "text": [
      "Forma del mapa de características: (108, 401408)\n"
     ]
    }
   ],
   "source": [
    "selected_layer = 11\n",
    "feature_map = np.reshape(activations[selected_layer], (activations[selected_layer].shape[0], -1))\n",
    "print(f\"Forma del mapa de características: {feature_map.shape}\")"
   ]
  },
  {
   "cell_type": "code",
   "execution_count": 40,
   "metadata": {},
   "outputs": [
    {
     "data": {
      "text/plain": [
       "(75, 33)"
      ]
     },
     "execution_count": 40,
     "metadata": {},
     "output_type": "execute_result"
    }
   ],
   "source": [
    "random.seed(0)\n",
    "feature_map, label = zip(*random.sample(list(zip(feature_map, label)), len(label)))\n",
    "X_train, X_test, y_train, y_test = train_test_split(feature_map, label, test_size=0.3, random_state=42)\n",
    "len(X_train), len(X_test)"
   ]
  },
  {
   "cell_type": "code",
   "execution_count": 41,
   "metadata": {},
   "outputs": [],
   "source": [
    "le = LabelEncoder()\n",
    "y_train_enc = le.fit_transform(y_train)\n",
    "y_test_enc = le.transform(y_test)"
   ]
  },
  {
   "cell_type": "code",
   "execution_count": 42,
   "metadata": {},
   "outputs": [],
   "source": [
    "classifiers = {\n",
    "    'RandomForest': RandomForestClassifier(),\n",
    "    'SVM': SVC()\n",
    "}"
   ]
  },
  {
   "cell_type": "code",
   "execution_count": 43,
   "metadata": {},
   "outputs": [],
   "source": [
    "param_grid_rf = {\n",
    "    'n_estimators': [100, 200],\n",
    "    'max_depth': [None, 10, 20],\n",
    "    'min_samples_split': [2, 5, 10]\n",
    "}"
   ]
  },
  {
   "cell_type": "code",
   "execution_count": 44,
   "metadata": {},
   "outputs": [],
   "source": [
    "param_grid_svm = {\n",
    "    'C': [0.1, 1, 10],\n",
    "    'gamma': [1, 0.1, 0.01],\n",
    "    'kernel': ['rbf', 'poly', 'sigmoid']\n",
    "}"
   ]
  },
  {
   "cell_type": "code",
   "execution_count": 45,
   "metadata": {},
   "outputs": [
    {
     "name": "stdout",
     "output_type": "stream",
     "text": [
      "Mejores parámetros para RandomForest: {'max_depth': None, 'min_samples_split': 2, 'n_estimators': 100}\n",
      "Mejores parámetros para SVM: {'C': 0.1, 'gamma': 1, 'kernel': 'poly'}\n"
     ]
    }
   ],
   "source": [
    "best_estimators = {}\n",
    "for name, clf in classifiers.items():\n",
    "    if name == 'RandomForest':\n",
    "        grid = GridSearchCV(clf, param_grid_rf, cv=3, scoring='accuracy')\n",
    "    elif name == 'SVM':\n",
    "        grid = GridSearchCV(clf, param_grid_svm, cv=3, scoring='accuracy')\n",
    "    \n",
    "    grid.fit(X_train, y_train_enc)\n",
    "    best_estimators[name] = grid.best_estimator_\n",
    "    print(f\"Mejores parámetros para {name}: {grid.best_params_}\")"
   ]
  },
  {
   "cell_type": "code",
   "execution_count": 49,
   "metadata": {},
   "outputs": [
    {
     "name": "stdout",
     "output_type": "stream",
     "text": [
      "Evaluando RandomForest...\n",
      "Matriz de confusión para RandomForest:\n"
     ]
    },
    {
     "data": {
      "image/png": "[encoded data removed]",
      "text/plain": [
       "<Figure size 640x480 with 2 Axes>"
      ]
     },
     "metadata": {},
     "output_type": "display_data"
    },
    {
     "name": "stdout",
     "output_type": "stream",
     "text": [
      "Informe de clasificación para RandomForest:\n",
      "              precision    recall  f1-score   support\n",
      "\n",
      "         LLA       0.92      0.92      0.92        13\n",
      "     healthy       0.95      0.95      0.95        20\n",
      "\n",
      "    accuracy                           0.94        33\n",
      "   macro avg       0.94      0.94      0.94        33\n",
      "weighted avg       0.94      0.94      0.94        33\n",
      "\n",
      "Accuracy para RandomForest: 0.9393939393939394\n",
      "Evaluando SVM...\n",
      "Matriz de confusión para SVM:\n"
     ]
    },
    {
     "data": {
      "image/png": "[encoded data removed]",
      "text/plain": [
       "<Figure size 640x480 with 2 Axes>"
      ]
     },
     "metadata": {},
     "output_type": "display_data"
    },
    {
     "name": "stdout",
     "output_type": "stream",
     "text": [
      "Informe de clasificación para SVM:\n",
      "              precision    recall  f1-score   support\n",
      "\n",
      "         LLA       1.00      0.92      0.96        13\n",
      "     healthy       0.95      1.00      0.98        20\n",
      "\n",
      "    accuracy                           0.97        33\n",
      "   macro avg       0.98      0.96      0.97        33\n",
      "weighted avg       0.97      0.97      0.97        33\n",
      "\n",
      "Accuracy para SVM: 0.9696969696969697\n"
     ]
    }
   ],
   "source": [
    "for name, clf in best_estimators.items():\n",
    "    print(f\"Evaluando {name}...\")\n",
    "    predictions = clf.predict(X_test)\n",
    "    print(f\"Matriz de confusión para {name}:\")\n",
    "    cm = confusion_matrix(y_test_enc, predictions)\n",
    "    df_cm = pd.DataFrame(cm, index=le.classes_, columns=le.classes_)\n",
    "    sns.heatmap(df_cm, annot=True, cmap='Blues')\n",
    "    plt.title(f'Matriz de confusión para {name}')\n",
    "    plt.ylabel('Etiqueta real')\n",
    "    plt.xlabel('Etiqueta predicha')\n",
    "    plt.show()\n",
    "    \n",
    "    print(f\"Informe de clasificación para {name}:\")\n",
    "    print(classification_report(y_test_enc, predictions, target_names=le.classes_))\n",
    "\n",
    "    accuracy = accuracy_score(y_test_enc, predictions)\n",
    "    print(f\"Accuracy para {name}: {accuracy}\")"
   ]
  }
 ],
 "metadata": {
  "kernelspec": {
   "display_name": "DataScience",
   "language": "python",
   "name": "python3"
  },
  "language_info": {
   "codemirror_mode": {
    "name": "ipython",
    "version": 3
   },
   "file_extension": ".py",
   "mimetype": "text/x-python",
   "name": "python",
   "nbconvert_exporter": "python",
   "pygments_lexer": "ipython3",
   "version": "3.11.5"
  }
 },
 "nbformat": 4,
 "nbformat_minor": 2
}
