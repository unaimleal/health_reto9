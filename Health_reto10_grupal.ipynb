{
 "cells": [
  {
   "cell_type": "code",
   "execution_count": 1,
   "metadata": {},
   "outputs": [],
   "source": [
    "import skimage.io\n",
    "import pandas as pd\n",
    "import os\n",
    "from sklearn.model_selection import train_test_split\n",
    "from sklearn.linear_model import LogisticRegression\n",
    "from sklearn.ensemble import RandomForestClassifier\n",
    "from sklearn.metrics import accuracy_score, classification_report\n",
    "import cv2\n",
    "from skimage import exposure, color\n",
    "import numpy as np\n",
    "from sklearn.model_selection import cross_val_score"
   ]
  },
  {
   "cell_type": "code",
   "execution_count": 2,
   "metadata": {},
   "outputs": [],
   "source": [
    "def calcular_promedio_color(imagen):\n",
    "\n",
    "    promedio_color = imagen.mean(axis=(0,1))\n",
    "    std = imagen.std(axis=(0,1))\n",
    "\n",
    "    data = {\n",
    "        'intensidad_Rojo': promedio_color[0], 'contraste_Rojo': std[0],\n",
    "        'intensidad_Verde': promedio_color[1], 'contraste_Verde': std[1],\n",
    "        'intensidad_Azul': promedio_color[2], 'contraste_Azul': std[2]\n",
    "    }\n",
    "\n",
    "    df = pd.DataFrame(data, index=[0])\n",
    "\n",
    "    return df"
   ]
  },
  {
   "cell_type": "code",
   "execution_count": 3,
   "metadata": {},
   "outputs": [],
   "source": [
    "def media_imagen_threshold(imagen):\n",
    "    img_gray = color.rgb2gray(imagen)\n",
    "    img_ampliacion_rango = exposure.rescale_intensity(img_gray, in_range='image', out_range=(0, 1))\n",
    "    smoothed_image = cv2.GaussianBlur(img_ampliacion_rango, (5, 5), 0)\n",
    "    imagen_umbralizada_globulos_blancos = (smoothed_image > 0.25).astype(np.uint8) * 255\n",
    "    imagen_umbralizada_globulos_negros = 255 - imagen_umbralizada_globulos_blancos\n",
    "    media_negro = np.mean(imagen_umbralizada_globulos_negros)\n",
    "    std_negro = np.std(imagen_umbralizada_globulos_negros)\n",
    "    return media_negro, std_negro"
   ]
  },
  {
   "cell_type": "code",
   "execution_count": 4,
   "metadata": {},
   "outputs": [],
   "source": [
    "carpeta = 'data'\n",
    "lista_dfs_res = []\n",
    "\n",
    "for subcarpeta in os.listdir(carpeta):\n",
    "    ruta_subcarpeta = os.path.join(carpeta,subcarpeta)\n",
    "    resultados = []\n",
    "\n",
    "    for nombre_archivo in os.listdir(ruta_subcarpeta):\n",
    "        ruta_imagen = os.path.join(ruta_subcarpeta, nombre_archivo)\n",
    "\n",
    "        if os.path.isfile(ruta_imagen) and nombre_archivo.lower().endswith(('.png', '.jpg', '.jpeg', '.gif', '.bmp')):\n",
    "            imagen = skimage.io.imread(ruta_imagen)\n",
    "            \n",
    "            df_resultado = calcular_promedio_color(imagen)\n",
    "            media_binario, std_binario = media_imagen_threshold(imagen) \n",
    "            df_resultado['media_binario'] = media_binario\n",
    "            df_resultado['std_binario'] = std_binario\n",
    "            resultados.append(df_resultado)\n",
    "\n",
    "    df_res = pd.concat(resultados, ignore_index=True)\n",
    "    if subcarpeta == 'healthy':\n",
    "        df_res['label'] = 0\n",
    "    else:\n",
    "        df_res['label'] = 1\n",
    "\n",
    "\n",
    "    lista_dfs_res.append(df_res)\n",
    "\n",
    "df = pd.concat([lista_dfs_res[0], lista_dfs_res[1]], ignore_index=True)\n",
    "df = df.sample(frac=1).reset_index(drop=True)"
   ]
  },
  {
   "cell_type": "code",
   "execution_count": 5,
   "metadata": {},
   "outputs": [
    {
     "name": "stdout",
     "output_type": "stream",
     "text": [
      "   intensidad_Rojo  contraste_Rojo  intensidad_Verde  contraste_Verde  \\\n",
      "0       150.369977       21.328753        141.615946        35.065781   \n",
      "1       146.733711       10.955865        138.765872        13.009746   \n",
      "2       119.471475        7.320871        106.681106        15.810581   \n",
      "3       142.821028       10.603523        132.948831        12.185562   \n",
      "4       100.795148        9.762737         90.476071        15.673630   \n",
      "\n",
      "   intensidad_Azul  contraste_Azul  media_binario  std_binario  label  \n",
      "0       148.569157       16.003733      10.909178    51.602619      1  \n",
      "1       131.253735       12.633971       0.351059     9.454994      0  \n",
      "2        95.094619       13.156449       0.317963     8.998853      0  \n",
      "3       124.206493       11.223015       0.373681     9.754431      0  \n",
      "4        85.898340       11.456872       2.984536    27.425341      0  \n"
     ]
    }
   ],
   "source": [
    "df.to_csv('dataset_features.csv', index=False)\n",
    "print(df.head())"
   ]
  },
  {
   "cell_type": "code",
   "execution_count": 2,
   "metadata": {},
   "outputs": [],
   "source": [
    "df = pd.read_csv('dataset_features.csv')"
   ]
  },
  {
   "cell_type": "code",
   "execution_count": 3,
   "metadata": {},
   "outputs": [
    {
     "name": "stdout",
     "output_type": "stream",
     "text": [
      "Precisión del modelo: 1.0000\n"
     ]
    },
    {
     "name": "stderr",
     "output_type": "stream",
     "text": [
      "c:\\Users\\Usuario\\.conda\\envs\\RETO9\\Lib\\site-packages\\sklearn\\linear_model\\_logistic.py:460: ConvergenceWarning: lbfgs failed to converge (status=1):\n",
      "STOP: TOTAL NO. of ITERATIONS REACHED LIMIT.\n",
      "\n",
      "Increase the number of iterations (max_iter) or scale the data as shown in:\n",
      "    https://scikit-learn.org/stable/modules/preprocessing.html\n",
      "Please also refer to the documentation for alternative solver options:\n",
      "    https://scikit-learn.org/stable/modules/linear_model.html#logistic-regression\n",
      "  n_iter_i = _check_optimize_result(\n"
     ]
    }
   ],
   "source": [
    "X = df.drop('label', axis=1)\n",
    "y = df['label']\n",
    "\n",
    "X_train, X_test, y_train, y_test = train_test_split(X, y, test_size=0.2, random_state=42)\n",
    "\n",
    "\n",
    "clasificador = LogisticRegression()\n",
    "\n",
    "clasificador.fit(X_train, y_train)\n",
    "pred = clasificador.predict(X_test)\n",
    "\n",
    "accuracy = accuracy_score(y_test, pred)\n",
    "print(f\"Precisión del modelo: {accuracy:.4f}\")"
   ]
  },
  {
   "cell_type": "code",
   "execution_count": 4,
   "metadata": {},
   "outputs": [
    {
     "name": "stdout",
     "output_type": "stream",
     "text": [
      "Variables ordenadas por su aportación al modelo:\n",
      "contraste_Verde     0.635677\n",
      "std_binario         0.625826\n",
      "intensidad_Azul     0.559704\n",
      "intensidad_Verde    0.302836\n",
      "contraste_Azul      0.270302\n",
      "intensidad_Rojo     0.163128\n",
      "contraste_Rojo      0.116455\n",
      "media_binario       0.053390\n",
      "dtype: float64\n"
     ]
    }
   ],
   "source": [
    "coefs = pd.Series(clasificador.coef_[0], index=X.columns)\n",
    "\n",
    "coefs_sorted = coefs.abs().sort_values(ascending=False)\n",
    "\n",
    "print(\"Variables ordenadas por su aportación al modelo:\")\n",
    "print(coefs_sorted)"
   ]
  },
  {
   "cell_type": "markdown",
   "metadata": {},
   "source": [
    "Prueba del modelo solo con las características más relevantes"
   ]
  },
  {
   "cell_type": "code",
   "execution_count": 5,
   "metadata": {},
   "outputs": [
    {
     "name": "stdout",
     "output_type": "stream",
     "text": [
      "Precisión del modelo: 0.9545\n"
     ]
    }
   ],
   "source": [
    "X = df.drop('label', axis=1)\n",
    "X = X[coefs_sorted.index[:4]]\n",
    "y = df['label']\n",
    "\n",
    "X_train, X_test, y_train, y_test = train_test_split(X, y, test_size=0.2, random_state=42)\n",
    "\n",
    "\n",
    "clasificador = RandomForestClassifier()\n",
    "\n",
    "clasificador.fit(X_train, y_train)\n",
    "pred = clasificador.predict(X_test)\n",
    "\n",
    "accuracy = accuracy_score(y_test, pred)\n",
    "print(f\"Precisión del modelo: {accuracy:.4f}\")"
   ]
  },
  {
   "cell_type": "markdown",
   "metadata": {},
   "source": [
    "Prueba del modelo con aplicación de validación cruzada"
   ]
  },
  {
   "cell_type": "code",
   "execution_count": 6,
   "metadata": {},
   "outputs": [
    {
     "name": "stderr",
     "output_type": "stream",
     "text": [
      "c:\\Users\\Usuario\\.conda\\envs\\RETO9\\Lib\\site-packages\\sklearn\\linear_model\\_logistic.py:460: ConvergenceWarning: lbfgs failed to converge (status=1):\n",
      "STOP: TOTAL NO. of ITERATIONS REACHED LIMIT.\n",
      "\n",
      "Increase the number of iterations (max_iter) or scale the data as shown in:\n",
      "    https://scikit-learn.org/stable/modules/preprocessing.html\n",
      "Please also refer to the documentation for alternative solver options:\n",
      "    https://scikit-learn.org/stable/modules/linear_model.html#logistic-regression\n",
      "  n_iter_i = _check_optimize_result(\n",
      "c:\\Users\\Usuario\\.conda\\envs\\RETO9\\Lib\\site-packages\\sklearn\\linear_model\\_logistic.py:460: ConvergenceWarning: lbfgs failed to converge (status=1):\n",
      "STOP: TOTAL NO. of ITERATIONS REACHED LIMIT.\n",
      "\n",
      "Increase the number of iterations (max_iter) or scale the data as shown in:\n",
      "    https://scikit-learn.org/stable/modules/preprocessing.html\n",
      "Please also refer to the documentation for alternative solver options:\n",
      "    https://scikit-learn.org/stable/modules/linear_model.html#logistic-regression\n",
      "  n_iter_i = _check_optimize_result(\n",
      "c:\\Users\\Usuario\\.conda\\envs\\RETO9\\Lib\\site-packages\\sklearn\\linear_model\\_logistic.py:460: ConvergenceWarning: lbfgs failed to converge (status=1):\n",
      "STOP: TOTAL NO. of ITERATIONS REACHED LIMIT.\n",
      "\n",
      "Increase the number of iterations (max_iter) or scale the data as shown in:\n",
      "    https://scikit-learn.org/stable/modules/preprocessing.html\n",
      "Please also refer to the documentation for alternative solver options:\n",
      "    https://scikit-learn.org/stable/modules/linear_model.html#logistic-regression\n",
      "  n_iter_i = _check_optimize_result(\n",
      "c:\\Users\\Usuario\\.conda\\envs\\RETO9\\Lib\\site-packages\\sklearn\\linear_model\\_logistic.py:460: ConvergenceWarning: lbfgs failed to converge (status=1):\n",
      "STOP: TOTAL NO. of ITERATIONS REACHED LIMIT.\n",
      "\n",
      "Increase the number of iterations (max_iter) or scale the data as shown in:\n",
      "    https://scikit-learn.org/stable/modules/preprocessing.html\n",
      "Please also refer to the documentation for alternative solver options:\n",
      "    https://scikit-learn.org/stable/modules/linear_model.html#logistic-regression\n",
      "  n_iter_i = _check_optimize_result(\n",
      "c:\\Users\\Usuario\\.conda\\envs\\RETO9\\Lib\\site-packages\\sklearn\\linear_model\\_logistic.py:460: ConvergenceWarning: lbfgs failed to converge (status=1):\n",
      "STOP: TOTAL NO. of ITERATIONS REACHED LIMIT.\n",
      "\n",
      "Increase the number of iterations (max_iter) or scale the data as shown in:\n",
      "    https://scikit-learn.org/stable/modules/preprocessing.html\n",
      "Please also refer to the documentation for alternative solver options:\n",
      "    https://scikit-learn.org/stable/modules/linear_model.html#logistic-regression\n",
      "  n_iter_i = _check_optimize_result(\n"
     ]
    },
    {
     "name": "stdout",
     "output_type": "stream",
     "text": [
      "Precisión de la regresión logística con validación cruzada: 0.9909\n",
      "Precisión del RandomForestClassifier con validación cruzada: 0.9719\n"
     ]
    }
   ],
   "source": [
    "X = df.drop('label', axis=1)\n",
    "y = df['label']\n",
    "\n",
    "clasificador_lr = LogisticRegression()\n",
    "scores_lr = cross_val_score(clasificador_lr, X, y, cv=5)  # cv=5 para 5 folds\n",
    "print(f\"Precisión de la regresión logística con validación cruzada: {scores_lr.mean():.4f}\")\n",
    "\n",
    "clasificador_rf = RandomForestClassifier()\n",
    "scores_rf = cross_val_score(clasificador_rf, X, y, cv=5)  # cv=5 para 5 folds\n",
    "print(f\"Precisión del RandomForestClassifier con validación cruzada: {scores_rf.mean():.4f}\")"
   ]
  }
 ],
 "metadata": {
  "kernelspec": {
   "display_name": "PyG",
   "language": "python",
   "name": "python3"
  },
  "language_info": {
   "codemirror_mode": {
    "name": "ipython",
    "version": 3
   },
   "file_extension": ".py",
   "mimetype": "text/x-python",
   "name": "python",
   "nbconvert_exporter": "python",
   "pygments_lexer": "ipython3",
   "version": "3.11.5"
  }
 },
 "nbformat": 4,
 "nbformat_minor": 2
}
